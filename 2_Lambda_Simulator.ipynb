{
 "cells": [
  {
   "cell_type": "markdown",
   "metadata": {},
   "source": [
    "# FLOW SIMULATION"
   ]
  },
  {
   "cell_type": "markdown",
   "metadata": {},
   "source": [
    "<img src='imgs/Slide1.png' width='800' align='left' />"
   ]
  },
  {
   "cell_type": "markdown",
   "metadata": {},
   "source": [
    "#### This notebook simulates the flow of data\n",
    "1. User submits a search parameters in a web form\n",
    "2. Search is performed in ElasticSearch index\n",
    "3. Search results are saved in PostgreSQL\n",
    "4. Report is generated and saved in S3\n",
    "5. User consumes report for analysis"
   ]
  },
  {
   "cell_type": "markdown",
   "metadata": {},
   "source": [
    "# 1. FORM SUBMISSION"
   ]
  },
  {
   "cell_type": "markdown",
   "metadata": {},
   "source": [
    "<img src='imgs/Slide2.png' width='500' align='left' />"
   ]
  },
  {
   "cell_type": "markdown",
   "metadata": {},
   "source": [
    "### parameters -- airport & date range"
   ]
  },
  {
   "cell_type": "code",
   "execution_count": 252,
   "metadata": {},
   "outputs": [],
   "source": [
    "# airport = MSY\n",
    "airport = 'MSY'"
   ]
  },
  {
   "cell_type": "code",
   "execution_count": 253,
   "metadata": {},
   "outputs": [
    {
     "data": {
      "text/plain": [
       "('2019-04-13', '2019-04-20')"
      ]
     },
     "execution_count": 253,
     "metadata": {},
     "output_type": "execute_result"
    }
   ],
   "source": [
    "# date range - April 13-20, 2019\n",
    "date_start = datetime.date(2019, 4, 13)\n",
    "date_end = datetime.date(2019, 4, 20)\n",
    "date_range = (str(date_start), str(date_end))\n",
    "date_range"
   ]
  },
  {
   "cell_type": "markdown",
   "metadata": {},
   "source": [
    "### generate GUID"
   ]
  },
  {
   "cell_type": "code",
   "execution_count": 254,
   "metadata": {},
   "outputs": [
    {
     "data": {
      "text/plain": [
       "'0c6c4ab0-3593-11ea-8d23-acde48001122'"
      ]
     },
     "execution_count": 254,
     "metadata": {},
     "output_type": "execute_result"
    }
   ],
   "source": [
    "import uuid \n",
    "GUID = str(uuid.uuid1())\n",
    "GUID"
   ]
  },
  {
   "cell_type": "markdown",
   "metadata": {},
   "source": [
    "### JSON wrap"
   ]
  },
  {
   "cell_type": "code",
   "execution_count": 255,
   "metadata": {},
   "outputs": [
    {
     "data": {
      "text/plain": [
       "{'airport': 'MSY',\n",
       " 'date_range': ('2019-04-13', '2019-04-20'),\n",
       " 'guid': '0c6c4ab0-3593-11ea-8d23-acde48001122'}"
      ]
     },
     "execution_count": 255,
     "metadata": {},
     "output_type": "execute_result"
    }
   ],
   "source": [
    "params = {\n",
    "    'airport' : airport,\n",
    "    'date_range' : date_range,\n",
    "    'guid' : GUID\n",
    "}\n",
    "params"
   ]
  },
  {
   "cell_type": "markdown",
   "metadata": {},
   "source": [
    "# 2. Lambda <-> ElasticSearch"
   ]
  },
  {
   "cell_type": "markdown",
   "metadata": {},
   "source": [
    "<img src='imgs/Slide3.png' width='500' align='left' />"
   ]
  },
  {
   "cell_type": "markdown",
   "metadata": {},
   "source": [
    "### search index"
   ]
  },
  {
   "cell_type": "code",
   "execution_count": 256,
   "metadata": {},
   "outputs": [],
   "source": [
    "results = !wget http://localhost:9200/itens/_search\\?pretty\\=true\\&q\\=airport:{airport} -q -O -"
   ]
  },
  {
   "cell_type": "markdown",
   "metadata": {},
   "source": [
    "### format results"
   ]
  },
  {
   "cell_type": "code",
   "execution_count": 257,
   "metadata": {},
   "outputs": [],
   "source": [
    "import json\n",
    "from pandas.io.json import json_normalize\n",
    "\n",
    "results_str = ''\n",
    "\n",
    "for i in results:\n",
    "    results_str += i \n",
    "\n",
    "obj = json.loads(results_str)"
   ]
  },
  {
   "cell_type": "markdown",
   "metadata": {},
   "source": [
    "### insert GUID"
   ]
  },
  {
   "cell_type": "code",
   "execution_count": 258,
   "metadata": {},
   "outputs": [],
   "source": [
    "for hit in obj['hits']['hits']:\n",
    "    hit['_source'].update({'guid' : GUID})    "
   ]
  },
  {
   "cell_type": "markdown",
   "metadata": {},
   "source": [
    "### convert to dataframe"
   ]
  },
  {
   "cell_type": "code",
   "execution_count": 259,
   "metadata": {},
   "outputs": [],
   "source": [
    "cols = {\n",
    "    '_index':'idx',\n",
    "    '_type':'src_type',\n",
    "    '_id':'idx_id',\n",
    "    '_score':'search_score',\n",
    "    '_source.@timestamp':'idx_timestamp',\n",
    "    '_source.leave':'leave',\n",
    "    '_source.name':'name',\n",
    "    '_source.land':'land',\n",
    "    '_source.id':'prsn_id',\n",
    "    '_source.age':'prsn_age',\n",
    "    '_source.airport':'airport',\n",
    "    '_source.guid':'guid'\n",
    "}\n",
    "\n",
    "\n",
    "df = json_normalize(obj['hits']['hits']).rename(columns=cols)\n",
    "\n",
    "df['leave'] = df['leave'].astype(str).astype(int)\n",
    "df['land'] = df['land'].astype(str).astype(int)\n",
    "df['prsn_id'] = df['prsn_id'].astype(str).astype(int)\n",
    "df['prsn_age'] = df['prsn_age'].astype(str).astype(int)\n",
    "\n",
    "df['idx_timestamp'] = pd.to_datetime(df['idx_timestamp'])"
   ]
  },
  {
   "cell_type": "markdown",
   "metadata": {},
   "source": [
    "# 3. Lambda <-> PostgreSQL"
   ]
  },
  {
   "cell_type": "markdown",
   "metadata": {},
   "source": [
    "<img src='imgs/Slide4.png' width='500' align='left' />"
   ]
  },
  {
   "cell_type": "code",
   "execution_count": 261,
   "metadata": {},
   "outputs": [
    {
     "data": {
      "text/plain": [
       "['index_search_results']"
      ]
     },
     "execution_count": 261,
     "metadata": {},
     "output_type": "execute_result"
    }
   ],
   "source": [
    "from sqlalchemy import create_engine\n",
    "engine = create_engine('postgresql+psycopg2://admin@localhost:5432/trvl')\n",
    "engine.table_names()"
   ]
  },
  {
   "cell_type": "code",
   "execution_count": 262,
   "metadata": {},
   "outputs": [],
   "source": [
    "table_name = 'index_search_results'\n",
    "con = engine.connect()\n",
    "df.to_sql(table_name, con, if_exists='append')\n",
    "con.close()"
   ]
  },
  {
   "cell_type": "code",
   "execution_count": 263,
   "metadata": {},
   "outputs": [
    {
     "data": {
      "text/plain": [
       "['index_search_results']"
      ]
     },
     "execution_count": 263,
     "metadata": {},
     "output_type": "execute_result"
    }
   ],
   "source": [
    "engine.table_names()"
   ]
  },
  {
   "cell_type": "code",
   "execution_count": 264,
   "metadata": {},
   "outputs": [],
   "source": [
    "# pd.read_sql_query('select * from ' + table_name, con=engine)"
   ]
  },
  {
   "cell_type": "markdown",
   "metadata": {},
   "source": [
    "# 4. Lambda -> S3"
   ]
  },
  {
   "cell_type": "markdown",
   "metadata": {},
   "source": [
    "<img src='imgs/Slide5.png' width='500' align='left' />"
   ]
  },
  {
   "cell_type": "code",
   "execution_count": 265,
   "metadata": {},
   "outputs": [],
   "source": [
    "results_file_name = 'results_' + GUID + '.csv'"
   ]
  },
  {
   "cell_type": "code",
   "execution_count": 266,
   "metadata": {},
   "outputs": [],
   "source": [
    "df.to_csv(results_file_name)"
   ]
  },
  {
   "cell_type": "code",
   "execution_count": 267,
   "metadata": {},
   "outputs": [
    {
     "name": "stdout",
     "output_type": "stream",
     "text": [
      "-rw-r--r--  1 wihill  staff  816 Jan 12 18:28 results_0c6c4ab0-3593-11ea-8d23-acde48001122.csv\r\n"
     ]
    }
   ],
   "source": [
    "!ls   -l {results_file_name}"
   ]
  },
  {
   "cell_type": "code",
   "execution_count": 268,
   "metadata": {},
   "outputs": [
    {
     "name": "stdout",
     "output_type": "stream",
     "text": [
      "       6 results_0c6c4ab0-3593-11ea-8d23-acde48001122.csv\r\n"
     ]
    }
   ],
   "source": [
    "!wc   -l {results_file_name}"
   ]
  },
  {
   "cell_type": "code",
   "execution_count": 269,
   "metadata": {},
   "outputs": [
    {
     "name": "stdout",
     "output_type": "stream",
     "text": [
      ",idx,src_type,idx_id,search_score,idx_timestamp,leave,name,land,prsn_id,prsn_age,airport,guid\r\n",
      "0,itens,_doc,COx9lm8BWea_MqX5V5_4,1.3397744,2019-04-02 04:00:00+00:00,1554696000,Blair,1554177600,4,22,MSY,0c6c4ab0-3593-11ea-8d23-acde48001122\r\n",
      "1,itens,_doc,D-x9lm8BWea_MqX5V5_4,1.3397744,2019-04-14 04:00:00+00:00,1555214400,Blair,1555214400,11,47,MSY,0c6c4ab0-3593-11ea-8d23-acde48001122\r\n",
      "2,itens,_doc,FOx9lm8BWea_MqX5V5_4,1.3397744,2019-04-14 04:00:00+00:00,1556078400,Beth,1555214400,16,54,MSY,0c6c4ab0-3593-11ea-8d23-acde48001122\r\n"
     ]
    }
   ],
   "source": [
    "!head -4 {results_file_name}"
   ]
  },
  {
   "cell_type": "markdown",
   "metadata": {},
   "source": [
    "# 5. User consume report for analysis"
   ]
  },
  {
   "cell_type": "markdown",
   "metadata": {},
   "source": [
    "<img src='imgs/Slide6.png' width='500' align='left' />"
   ]
  },
  {
   "cell_type": "code",
   "execution_count": 270,
   "metadata": {},
   "outputs": [
    {
     "data": {
      "text/html": [
       "<div>\n",
       "<style scoped>\n",
       "    .dataframe tbody tr th:only-of-type {\n",
       "        vertical-align: middle;\n",
       "    }\n",
       "\n",
       "    .dataframe tbody tr th {\n",
       "        vertical-align: top;\n",
       "    }\n",
       "\n",
       "    .dataframe thead th {\n",
       "        text-align: right;\n",
       "    }\n",
       "</style>\n",
       "<table border=\"1\" class=\"dataframe\">\n",
       "  <thead>\n",
       "    <tr style=\"text-align: right;\">\n",
       "      <th></th>\n",
       "      <th>idx</th>\n",
       "      <th>src_type</th>\n",
       "      <th>idx_id</th>\n",
       "      <th>search_score</th>\n",
       "      <th>idx_timestamp</th>\n",
       "      <th>leave</th>\n",
       "      <th>name</th>\n",
       "      <th>land</th>\n",
       "      <th>prsn_id</th>\n",
       "      <th>prsn_age</th>\n",
       "      <th>airport</th>\n",
       "      <th>guid</th>\n",
       "    </tr>\n",
       "  </thead>\n",
       "  <tbody>\n",
       "    <tr>\n",
       "      <th>0</th>\n",
       "      <td>itens</td>\n",
       "      <td>_doc</td>\n",
       "      <td>COx9lm8BWea_MqX5V5_4</td>\n",
       "      <td>1.339774</td>\n",
       "      <td>2019-04-02 04:00:00+00:00</td>\n",
       "      <td>1554696000</td>\n",
       "      <td>Blair</td>\n",
       "      <td>1554177600</td>\n",
       "      <td>4</td>\n",
       "      <td>22</td>\n",
       "      <td>MSY</td>\n",
       "      <td>0c6c4ab0-3593-11ea-8d23-acde48001122</td>\n",
       "    </tr>\n",
       "    <tr>\n",
       "      <th>1</th>\n",
       "      <td>itens</td>\n",
       "      <td>_doc</td>\n",
       "      <td>D-x9lm8BWea_MqX5V5_4</td>\n",
       "      <td>1.339774</td>\n",
       "      <td>2019-04-14 04:00:00+00:00</td>\n",
       "      <td>1555214400</td>\n",
       "      <td>Blair</td>\n",
       "      <td>1555214400</td>\n",
       "      <td>11</td>\n",
       "      <td>47</td>\n",
       "      <td>MSY</td>\n",
       "      <td>0c6c4ab0-3593-11ea-8d23-acde48001122</td>\n",
       "    </tr>\n",
       "    <tr>\n",
       "      <th>2</th>\n",
       "      <td>itens</td>\n",
       "      <td>_doc</td>\n",
       "      <td>FOx9lm8BWea_MqX5V5_4</td>\n",
       "      <td>1.339774</td>\n",
       "      <td>2019-04-14 04:00:00+00:00</td>\n",
       "      <td>1556078400</td>\n",
       "      <td>Beth</td>\n",
       "      <td>1555214400</td>\n",
       "      <td>16</td>\n",
       "      <td>54</td>\n",
       "      <td>MSY</td>\n",
       "      <td>0c6c4ab0-3593-11ea-8d23-acde48001122</td>\n",
       "    </tr>\n",
       "    <tr>\n",
       "      <th>3</th>\n",
       "      <td>itens</td>\n",
       "      <td>_doc</td>\n",
       "      <td>Fux9lm8BWea_MqX5V5_4</td>\n",
       "      <td>1.339774</td>\n",
       "      <td>2019-04-22 04:00:00+00:00</td>\n",
       "      <td>1555905600</td>\n",
       "      <td>Bill</td>\n",
       "      <td>1555905600</td>\n",
       "      <td>18</td>\n",
       "      <td>61</td>\n",
       "      <td>MSY</td>\n",
       "      <td>0c6c4ab0-3593-11ea-8d23-acde48001122</td>\n",
       "    </tr>\n",
       "    <tr>\n",
       "      <th>4</th>\n",
       "      <td>itens</td>\n",
       "      <td>_doc</td>\n",
       "      <td>F-x9lm8BWea_MqX5V5_4</td>\n",
       "      <td>1.339774</td>\n",
       "      <td>2019-04-14 04:00:00+00:00</td>\n",
       "      <td>1555300800</td>\n",
       "      <td>Bubba</td>\n",
       "      <td>1555214400</td>\n",
       "      <td>19</td>\n",
       "      <td>61</td>\n",
       "      <td>MSY</td>\n",
       "      <td>0c6c4ab0-3593-11ea-8d23-acde48001122</td>\n",
       "    </tr>\n",
       "  </tbody>\n",
       "</table>\n",
       "</div>"
      ],
      "text/plain": [
       "     idx src_type                idx_id  search_score  \\\n",
       "0  itens     _doc  COx9lm8BWea_MqX5V5_4      1.339774   \n",
       "1  itens     _doc  D-x9lm8BWea_MqX5V5_4      1.339774   \n",
       "2  itens     _doc  FOx9lm8BWea_MqX5V5_4      1.339774   \n",
       "3  itens     _doc  Fux9lm8BWea_MqX5V5_4      1.339774   \n",
       "4  itens     _doc  F-x9lm8BWea_MqX5V5_4      1.339774   \n",
       "\n",
       "              idx_timestamp       leave   name        land  prsn_id  prsn_age  \\\n",
       "0 2019-04-02 04:00:00+00:00  1554696000  Blair  1554177600        4        22   \n",
       "1 2019-04-14 04:00:00+00:00  1555214400  Blair  1555214400       11        47   \n",
       "2 2019-04-14 04:00:00+00:00  1556078400   Beth  1555214400       16        54   \n",
       "3 2019-04-22 04:00:00+00:00  1555905600   Bill  1555905600       18        61   \n",
       "4 2019-04-14 04:00:00+00:00  1555300800  Bubba  1555214400       19        61   \n",
       "\n",
       "  airport                                  guid  \n",
       "0     MSY  0c6c4ab0-3593-11ea-8d23-acde48001122  \n",
       "1     MSY  0c6c4ab0-3593-11ea-8d23-acde48001122  \n",
       "2     MSY  0c6c4ab0-3593-11ea-8d23-acde48001122  \n",
       "3     MSY  0c6c4ab0-3593-11ea-8d23-acde48001122  \n",
       "4     MSY  0c6c4ab0-3593-11ea-8d23-acde48001122  "
      ]
     },
     "execution_count": 270,
     "metadata": {},
     "output_type": "execute_result"
    }
   ],
   "source": [
    "df"
   ]
  },
  {
   "cell_type": "code",
   "execution_count": null,
   "metadata": {},
   "outputs": [],
   "source": []
  }
 ],
 "metadata": {
  "kernelspec": {
   "display_name": "Python 3",
   "language": "python",
   "name": "python3"
  },
  "language_info": {
   "codemirror_mode": {
    "name": "ipython",
    "version": 3
   },
   "file_extension": ".py",
   "mimetype": "text/x-python",
   "name": "python",
   "nbconvert_exporter": "python",
   "pygments_lexer": "ipython3",
   "version": "3.7.6"
  }
 },
 "nbformat": 4,
 "nbformat_minor": 2
}
