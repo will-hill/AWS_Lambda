{
 "cells": [
  {
   "cell_type": "markdown",
   "metadata": {},
   "source": [
    "# Elastic System Setup\n",
    "##### This note shows how to setup the following..."
   ]
  },
  {
   "cell_type": "markdown",
   "metadata": {},
   "source": [
    "### 1. ElasticSearch Container (Docker)\n",
    "### 2. Kibana Container (Docker)\n",
    "### 3. Random Data CSV\n",
    "### 4. Index CSV - ElasticSearch\n",
    "### 5. Query Test  "
   ]
  },
  {
   "cell_type": "markdown",
   "metadata": {},
   "source": [
    "<img src='elastic.png' width='550'/>"
   ]
  },
  {
   "cell_type": "markdown",
   "metadata": {},
   "source": [
    "# 1. ElasticSearch Microservice w/ Docker"
   ]
  },
  {
   "cell_type": "code",
   "execution_count": 165,
   "metadata": {},
   "outputs": [
    {
     "name": "stdout",
     "output_type": "stream",
     "text": [
      "docker: Error response from daemon: Conflict. The container name \"/elasticsearch\" is already in use by container \"5e64c764824b94111d7e0de1cb4f099eac26ab15e80cdcf82592922626fc692d\". You have to remove (or rename) that container to be able to reuse that name.\r\n",
      "See 'docker run --help'.\r\n"
     ]
    }
   ],
   "source": [
    "elastic_version    = '6.6.2'\n",
    "h_elastic_rest_port  = '9200'\n",
    "c_elastic_rest_port  = '9200'\n",
    "h_elastic_node_comms = '9300'\n",
    "c_elastic_node_comms = '9300'\n",
    "\n",
    "!docker run -d                                                \\\n",
    "            -p {h_elastic_rest_port}:{c_elastic_rest_port}    \\\n",
    "            -p {h_elastic_node_comms}:{c_elastic_node_comms}  \\\n",
    "            -e \"discovery.type=single-node\"                   \\\n",
    "            -it                                               \\\n",
    "            -h elasticsearch                                  \\\n",
    "            --name elasticsearch                              \\\n",
    "            elasticsearch:{elastic_version}"
   ]
  },
  {
   "cell_type": "code",
   "execution_count": 76,
   "metadata": {},
   "outputs": [
    {
     "name": "stdout",
     "output_type": "stream",
     "text": [
      "CONTAINER ID        IMAGE                 COMMAND                  CREATED             STATUS              PORTS                                            NAMES\r\n",
      "5e64c764824b        elasticsearch:6.6.2   \"/usr/local/bin/dock…\"   5 minutes ago       Up 5 minutes        0.0.0.0:9200->9200/tcp, 0.0.0.0:9300->9300/tcp   elasticsearch\r\n"
     ]
    }
   ],
   "source": [
    "!docker ps"
   ]
  },
  {
   "cell_type": "markdown",
   "metadata": {},
   "source": [
    "### Verify ElasticSearch"
   ]
  },
  {
   "cell_type": "markdown",
   "metadata": {},
   "source": [
    "http://localhost:9200/?pretty=true\n",
    "\n",
    "http://localhost:9200/_aliases?pretty=true"
   ]
  },
  {
   "cell_type": "markdown",
   "metadata": {},
   "source": [
    "<img src='kibana.png' width='550'/>"
   ]
  },
  {
   "cell_type": "markdown",
   "metadata": {},
   "source": [
    "# 1. Kibana Microservice w/ Docker"
   ]
  },
  {
   "cell_type": "code",
   "execution_count": 77,
   "metadata": {},
   "outputs": [
    {
     "name": "stdout",
     "output_type": "stream",
     "text": [
      "Unable to find image 'kibana:6.6.2' locally\n",
      "6.6.2: Pulling from library/kibana\n",
      "\n",
      "\u001b[1B4930cb5d: Already exists \n",
      "\u001b[1Be1d65b99: Pulling fs layer \n",
      "\u001b[1Bb0dccaae: Pulling fs layer \n",
      "\u001b[1Bee7bbfdf: Pulling fs layer \n",
      "\u001b[1B69d7f611: Pulling fs layer \n",
      "\u001b[1B9d3a3f3d: Pulling fs layer \n",
      "\u001b[1B0f99056a: Pulling fs layer \n",
      "\u001b[1B4b1fd541: Pulling fs layer \n",
      "\u001b[1BDigest: sha256:80e6f3b9ad20ce9d7a48c6c72828bc5b00369d77fa8208ed4bae1b9c8dc6e1ef\u001b[2K\u001b[5A\u001b[2K\u001b[8A\u001b[2K\u001b[6A\u001b[2K\u001b[8A\u001b[2K\u001b[6A\u001b[2K\u001b[8A\u001b[2K\u001b[8A\u001b[2K\u001b[4A\u001b[2K\u001b[8A\u001b[2K\u001b[6A\u001b[2K\u001b[8A\u001b[2K\u001b[6A\u001b[2K\u001b[8A\u001b[2K\u001b[6A\u001b[2K\u001b[8A\u001b[2K\u001b[8A\u001b[2K\u001b[8A\u001b[2K\u001b[6A\u001b[2K\u001b[8A\u001b[2K\u001b[2A\u001b[2K\u001b[8A\u001b[2K\u001b[6A\u001b[2K\u001b[8A\u001b[2K\u001b[6A\u001b[2K\u001b[8A\u001b[2K\u001b[1A\u001b[2K\u001b[6A\u001b[2K\u001b[6A\u001b[2K\u001b[6A\u001b[2K\u001b[8A\u001b[2K\u001b[6A\u001b[2K\u001b[6A\u001b[2K\u001b[6A\u001b[2K\u001b[8A\u001b[2K\u001b[6A\u001b[2K\u001b[8A\u001b[2K\u001b[8A\u001b[2K\u001b[6A\u001b[2K\u001b[8A\u001b[2K\u001b[8A\u001b[2K\u001b[6A\u001b[2K\u001b[6A\u001b[2K\u001b[6A\u001b[2K\u001b[7A\u001b[2K\u001b[6A\u001b[2K\u001b[6A\u001b[2K\u001b[6A\u001b[2K\u001b[6A\u001b[2K\u001b[6A\u001b[2K\u001b[6A\u001b[2K\u001b[6A\u001b[2K\u001b[6A\u001b[2K\u001b[6A\u001b[2K\u001b[6A\u001b[2K\u001b[6A\u001b[2K\u001b[6A\u001b[2K\u001b[6A\u001b[2K\u001b[6A\u001b[2K\u001b[6A\u001b[2K\u001b[6A\u001b[2K\u001b[6A\u001b[2K\u001b[6A\u001b[2K\u001b[6A\u001b[2K\u001b[6A\u001b[2K\u001b[6A\u001b[2K\u001b[6A\u001b[2K\u001b[6A\u001b[2K\u001b[6A\u001b[2K\u001b[6A\u001b[2K\u001b[6A\u001b[2K\u001b[6A\u001b[2K\u001b[6A\u001b[2K\u001b[6A\u001b[2K\u001b[6A\u001b[2K\u001b[6A\u001b[2K\u001b[6A\u001b[2K\u001b[6A\u001b[2K\u001b[6A\u001b[2K\u001b[6A\u001b[2K\u001b[6A\u001b[2K\u001b[6A\u001b[2K\u001b[6A\u001b[2K\u001b[6A\u001b[2K\u001b[6A\u001b[2K\u001b[6A\u001b[2K\u001b[6A\u001b[2K\u001b[6A\u001b[2K\u001b[6A\u001b[2K\u001b[6A\u001b[2K\u001b[6A\u001b[2K\u001b[6A\u001b[2K\u001b[6A\u001b[2K\u001b[6A\u001b[2K\u001b[6A\u001b[2K\u001b[6A\u001b[2K\u001b[6A\u001b[2K\u001b[6A\u001b[2K\u001b[6A\u001b[2K\u001b[6A\u001b[2K\u001b[6A\u001b[2K\u001b[6A\u001b[2K\u001b[6A\u001b[2K\u001b[6A\u001b[2K\u001b[6A\u001b[2K\u001b[6A\u001b[2K\u001b[6A\u001b[2K\u001b[6A\u001b[2K\u001b[6A\u001b[2K\u001b[6A\u001b[2K\u001b[6A\u001b[2K\u001b[6A\u001b[2K\u001b[6A\u001b[2K\u001b[6A\u001b[2K\u001b[6A\u001b[2K\u001b[6A\u001b[2K\u001b[6A\u001b[2K\u001b[6A\u001b[2K\u001b[6A\u001b[2K\u001b[6A\u001b[2K\u001b[6A\u001b[2K\u001b[6A\u001b[2K\u001b[6A\u001b[2K\u001b[6A\u001b[2K\u001b[6A\u001b[2K\u001b[6A\u001b[2K\u001b[6A\u001b[2K\u001b[6A\u001b[2K\u001b[6A\u001b[2K\u001b[6A\u001b[2K\u001b[6A\u001b[2K\u001b[6A\u001b[2K\u001b[6A\u001b[2K\u001b[6A\u001b[2K\u001b[6A\u001b[2K\u001b[6A\u001b[2K\u001b[6A\u001b[2K\u001b[6A\u001b[2K\u001b[6A\u001b[2K\u001b[6A\u001b[2K\u001b[6A\u001b[2K\u001b[6A\u001b[2K\u001b[6A\u001b[2K\u001b[6A\u001b[2K\u001b[6A\u001b[2K\u001b[6A\u001b[2K\u001b[6A\u001b[2K\u001b[6A\u001b[2K\u001b[6A\u001b[2K\u001b[6A\u001b[2K\u001b[6A\u001b[2K\u001b[6A\u001b[2K\u001b[6A\u001b[2K\u001b[6A\u001b[2K\u001b[6A\u001b[2K\u001b[6A\u001b[2K\u001b[6A\u001b[2K\u001b[6A\u001b[2K\u001b[6A\u001b[2K\u001b[6A\u001b[2K\u001b[6A\u001b[2K\u001b[6A\u001b[2K\u001b[6A\u001b[2K\u001b[5A\u001b[2K\u001b[4A\u001b[2K\u001b[3A\u001b[2K\u001b[2A\u001b[2K\u001b[1A\u001b[2K\n",
      "Status: Downloaded newer image for kibana:6.6.2\n",
      "0c598d4ce7ac1d366ba63f804b7072c5ffc0e576c375656980268be3c905c8b5\n"
     ]
    }
   ],
   "source": [
    "h_kibana_port        = '5601'\n",
    "c_kibana_port        = '5601'\n",
    "!docker run -d                                  \\\n",
    "            -p {h_kibana_port}:{c_kibana_port}  \\\n",
    "            -h kibana                           \\\n",
    "            --name kibana                       \\\n",
    "            --link elasticsearch:elasticsearch  \\\n",
    "            kibana:{elastic_version}"
   ]
  },
  {
   "cell_type": "code",
   "execution_count": 78,
   "metadata": {},
   "outputs": [
    {
     "name": "stdout",
     "output_type": "stream",
     "text": [
      "CONTAINER ID        IMAGE                 COMMAND                  CREATED             STATUS              PORTS                                            NAMES\r\n",
      "0c598d4ce7ac        kibana:6.6.2          \"/usr/local/bin/kiba…\"   21 seconds ago      Up 21 seconds       0.0.0.0:5601->5601/tcp                           kibana\r\n",
      "5e64c764824b        elasticsearch:6.6.2   \"/usr/local/bin/dock…\"   7 minutes ago       Up 7 minutes        0.0.0.0:9200->9200/tcp, 0.0.0.0:9300->9300/tcp   elasticsearch\r\n"
     ]
    }
   ],
   "source": [
    "!docker ps"
   ]
  },
  {
   "cell_type": "markdown",
   "metadata": {},
   "source": [
    "### Verify Kibana \n",
    "http://localhost:5601"
   ]
  },
  {
   "cell_type": "markdown",
   "metadata": {},
   "source": [
    "<img src='travel.png' />"
   ]
  },
  {
   "cell_type": "markdown",
   "metadata": {},
   "source": [
    "### Random Data >> CSV"
   ]
  },
  {
   "cell_type": "code",
   "execution_count": null,
   "metadata": {},
   "outputs": [],
   "source": [
    "!rm -rf people.csv"
   ]
  },
  {
   "cell_type": "code",
   "execution_count": 93,
   "metadata": {},
   "outputs": [],
   "source": [
    "# inspired by: https://stackoverflow.com/questions/553303/generate-a-random-date-between-two-other-dates\n",
    "\n",
    "def random_date_epoch(start, end, prop, format = '%m/%d/%Y'):\n",
    "    import time\n",
    "    stime = time.mktime(time.strptime(start, format))\n",
    "    etime = time.mktime(time.strptime(end, format))\n",
    "    ptime = stime + prop * (etime - stime)\n",
    "\n",
    "    rando_time = time.strftime(format, time.localtime(ptime))    \n",
    "    rando_time = time.mktime(time.strptime(rando_time, format))\n",
    "    rando_time = int(rando_time)\n",
    "    return rando_time\n",
    "    \n",
    "print(random_date(\"4/1/2019\", \"4/30/2019\", random.random()))"
   ]
  },
  {
   "cell_type": "code",
   "execution_count": 151,
   "metadata": {},
   "outputs": [
    {
     "name": "stdout",
     "output_type": "stream",
     "text": [
      "{'id': 17, 'name': 'Brody', 'age': '33', 'airport': 'LAX', 'land': 1554523200, 'leave': 1554523200}\n"
     ]
    }
   ],
   "source": [
    "def gen_row(i):\n",
    "    \n",
    "    land = random_date(\"4/1/2019\", \"4/30/2019\", random.random())\n",
    "    leave = random_date(\"4/1/2019\", \"4/30/2019\", random.random())\n",
    "    while land > leave:\n",
    "        land = random_date(\"4/1/2019\", \"4/30/2019\", random.random())\n",
    "        leave = random_date(\"4/1/2019\", \"4/30/2019\", random.random())\n",
    "        \n",
    "    return dict([\n",
    "        ('id', i),\n",
    "        ('name', random.choice(['Bob', 'Bill', 'Bubba', 'Brody', 'Blair', 'Beth'])),\n",
    "        ('age', str(random.randint(22,66))),\n",
    "        ('airport', random.choice(['LAX', 'MSY', 'JFK', 'LGA', 'SFO', 'RDU', 'DCA', 'IAW'])),\n",
    "        ('land', land),\n",
    "        ('leave', leave)]\n",
    "    )\n",
    "print(gen_row(17))"
   ]
  },
  {
   "cell_type": "code",
   "execution_count": 153,
   "metadata": {},
   "outputs": [
    {
     "name": "stdout",
     "output_type": "stream",
     "text": [
      "Making 20 records\n",
      "\n",
      "-rw-r--r--  1 wihill  staff  790 Jan 11 16:22 people.csv\n",
      "      21 people.csv\n",
      "id,name,age,airport,land,leave\n",
      "0,Brody,49,JFK,1554177600,1556251200\n",
      "1,Brody,66,LGA,1554177600,1555473600\n"
     ]
    }
   ],
   "source": [
    "# inspired by ...\n",
    "# https://gist.github.com/AlanHohn/293c98f9dadfc67443b8078d843d4401\n",
    "\n",
    "import csv\n",
    "import random\n",
    "import time\n",
    "\n",
    "N=20\n",
    "print(\"Making %d records\\n\" % records)\n",
    "\n",
    "fieldnames=['id','name','age','airport','land','leave']\n",
    "\n",
    "writer = csv.DictWriter(open(\"people.csv\", \"w\"), fieldnames=fieldnames)\n",
    "\n",
    "writer.writerow(dict(zip(fieldnames, fieldnames)))\n",
    "\n",
    "for i in range(0, N):\n",
    "    writer.writerow(gen_row(i))\n",
    "    \n",
    "!ls -l   people.csv\n",
    "!wc -l   people.csv\n",
    "!head -3 people.csv"
   ]
  },
  {
   "cell_type": "markdown",
   "metadata": {},
   "source": [
    "### Test File Importer\n",
    "http://localhost:5601/app/ml#/filedatavisualizer"
   ]
  },
  {
   "cell_type": "markdown",
   "metadata": {},
   "source": [
    "<img src='travel_search.png' />"
   ]
  },
  {
   "cell_type": "markdown",
   "metadata": {},
   "source": [
    "# Verify Index w/ Test Search"
   ]
  },
  {
   "cell_type": "code",
   "execution_count": 166,
   "metadata": {},
   "outputs": [
    {
     "name": "stdout",
     "output_type": "stream",
     "text": [
      "{\r\n",
      "  \"took\" : 1,\r\n",
      "  \"timed_out\" : false,\r\n",
      "  \"_shards\" : {\r\n",
      "    \"total\" : 1,\r\n",
      "    \"successful\" : 1,\r\n",
      "    \"skipped\" : 0,\r\n",
      "    \"failed\" : 0\r\n",
      "  },\r\n",
      "  \"hits\" : {\r\n",
      "    \"total\" : 5,\r\n",
      "    \"max_score\" : 1.3397744,\r\n",
      "    \"hits\" : [\r\n",
      "      {\r\n",
      "        \"_index\" : \"itens\",\r\n",
      "        \"_type\" : \"_doc\",\r\n",
      "        \"_id\" : \"COx9lm8BWea_MqX5V5_4\",\r\n",
      "        \"_score\" : 1.3397744,\r\n",
      "        \"_source\" : {\r\n",
      "          \"@timestamp\" : \"2019-04-02T04:00:00.000Z\",\r\n",
      "          \"leave\" : \"1554696000\",\r\n",
      "          \"name\" : \"Blair\",\r\n",
      "          \"land\" : \"1554177600\",\r\n",
      "          \"id\" : \"4\",\r\n",
      "          \"age\" : \"22\",\r\n",
      "          \"airport\" : \"MSY\"\r\n",
      "        }\r\n",
      "      },\r\n",
      "      {\r\n",
      "        \"_index\" : \"itens\",\r\n",
      "        \"_type\" : \"_doc\",\r\n",
      "        \"_id\" : \"D-x9lm8BWea_MqX5V5_4\",\r\n",
      "        \"_score\" : 1.3397744,\r\n",
      "        \"_source\" : {\r\n",
      "          \"@timestamp\" : \"2019-04-14T04:00:00.000Z\",\r\n",
      "          \"leave\" : \"1555214400\",\r\n",
      "          \"name\" : \"Blair\",\r\n",
      "          \"land\" : \"1555214400\",\r\n",
      "          \"id\" : \"11\",\r\n",
      "          \"age\" : \"47\",\r\n",
      "          \"airport\" : \"MSY\"\r\n",
      "        }\r\n",
      "      },\r\n",
      "      {\r\n",
      "        \"_index\" : \"itens\",\r\n",
      "        \"_type\" : \"_doc\",\r\n",
      "        \"_id\" : \"FOx9lm8BWea_MqX5V5_4\",\r\n",
      "        \"_score\" : 1.3397744,\r\n",
      "        \"_source\" : {\r\n",
      "          \"@timestamp\" : \"2019-04-14T04:00:00.000Z\",\r\n",
      "          \"leave\" : \"1556078400\",\r\n",
      "          \"name\" : \"Beth\",\r\n",
      "          \"land\" : \"1555214400\",\r\n",
      "          \"id\" : \"16\",\r\n",
      "          \"age\" : \"54\",\r\n",
      "          \"airport\" : \"MSY\"\r\n",
      "        }\r\n",
      "      },\r\n",
      "      {\r\n",
      "        \"_index\" : \"itens\",\r\n",
      "        \"_type\" : \"_doc\",\r\n",
      "        \"_id\" : \"Fux9lm8BWea_MqX5V5_4\",\r\n",
      "        \"_score\" : 1.3397744,\r\n",
      "        \"_source\" : {\r\n",
      "          \"@timestamp\" : \"2019-04-22T04:00:00.000Z\",\r\n",
      "          \"leave\" : \"1555905600\",\r\n",
      "          \"name\" : \"Bill\",\r\n",
      "          \"land\" : \"1555905600\",\r\n",
      "          \"id\" : \"18\",\r\n",
      "          \"age\" : \"61\",\r\n",
      "          \"airport\" : \"MSY\"\r\n",
      "        }\r\n",
      "      },\r\n",
      "      {\r\n",
      "        \"_index\" : \"itens\",\r\n",
      "        \"_type\" : \"_doc\",\r\n",
      "        \"_id\" : \"F-x9lm8BWea_MqX5V5_4\",\r\n",
      "        \"_score\" : 1.3397744,\r\n",
      "        \"_source\" : {\r\n",
      "          \"@timestamp\" : \"2019-04-14T04:00:00.000Z\",\r\n",
      "          \"leave\" : \"1555300800\",\r\n",
      "          \"name\" : \"Bubba\",\r\n",
      "          \"land\" : \"1555214400\",\r\n",
      "          \"id\" : \"19\",\r\n",
      "          \"age\" : \"61\",\r\n",
      "          \"airport\" : \"MSY\"\r\n",
      "        }\r\n",
      "      }\r\n",
      "    ]\r\n",
      "  }\r\n",
      "}\r\n"
     ]
    }
   ],
   "source": [
    "!wget http://localhost:9200/itens/_search\\?pretty\\=true\\&q\\=airport:MSY -q -O -"
   ]
  },
  {
   "cell_type": "markdown",
   "metadata": {},
   "source": [
    "1. Simulate 2 parameters: coordinates & date range\n",
    "2. Generate a GUID\n",
    "3. Encapsulate in JSON\n",
    "4. Convert to XML"
   ]
  },
  {
   "cell_type": "markdown",
   "metadata": {},
   "source": [
    "10. Convert results to XML\n",
    "11. ETL to PostgreSQL\n",
    "12. Query & sort correlations"
   ]
  },
  {
   "cell_type": "markdown",
   "metadata": {},
   "source": [
    "# 1. coordinates and date range"
   ]
  },
  {
   "cell_type": "code",
   "execution_count": 162,
   "metadata": {},
   "outputs": [],
   "source": [
    "import datetime"
   ]
  },
  {
   "cell_type": "code",
   "execution_count": 163,
   "metadata": {},
   "outputs": [
    {
     "data": {
      "text/plain": [
       "('2019-04-13', '2019-04-20')"
      ]
     },
     "execution_count": 163,
     "metadata": {},
     "output_type": "execute_result"
    }
   ],
   "source": [
    "# date range - April 13-20, 2019\n",
    "date_start = datetime.date(2019, 4, 13)\n",
    "date_end = datetime.date(2019, 4, 20)\n",
    "date_range = (str(date_start), str(date_end))\n",
    "date_range"
   ]
  },
  {
   "cell_type": "code",
   "execution_count": 164,
   "metadata": {},
   "outputs": [
    {
     "data": {
      "text/plain": [
       "(29.9911, -90.2592)"
      ]
     },
     "execution_count": 164,
     "metadata": {},
     "output_type": "execute_result"
    }
   ],
   "source": [
    "# MSY -- Louis Armstrong New Orleans International Airport\n",
    "lat = 29.9911\n",
    "long = -90.2592\n",
    "coords = (lat, long)\n",
    "coords"
   ]
  },
  {
   "cell_type": "markdown",
   "metadata": {},
   "source": [
    "# 2. Generate GUI"
   ]
  },
  {
   "cell_type": "code",
   "execution_count": 34,
   "metadata": {},
   "outputs": [
    {
     "data": {
      "text/plain": [
       "'9b5e0734-3478-11ea-b7dc-acde48001122'"
      ]
     },
     "execution_count": 34,
     "metadata": {},
     "output_type": "execute_result"
    }
   ],
   "source": [
    "import uuid \n",
    "GUID = str(uuid.uuid1())\n",
    "GUID"
   ]
  },
  {
   "cell_type": "markdown",
   "metadata": {},
   "source": [
    "# 3. JSON wrap"
   ]
  },
  {
   "cell_type": "code",
   "execution_count": 35,
   "metadata": {},
   "outputs": [
    {
     "data": {
      "text/plain": [
       "{'coords': (29.9911, -90.2592),\n",
       " 'date_range': ('2019-04-13', '2019-04-20'),\n",
       " 'guid': '9b5e0734-3478-11ea-b7dc-acde48001122'}"
      ]
     },
     "execution_count": 35,
     "metadata": {},
     "output_type": "execute_result"
    }
   ],
   "source": [
    "params = {\n",
    "    'coords' : coords,\n",
    "    'date_range' : date_range,\n",
    "    'guid' : GUID\n",
    "}\n",
    "params"
   ]
  },
  {
   "cell_type": "markdown",
   "metadata": {},
   "source": [
    "# 4. XML Conversion"
   ]
  },
  {
   "cell_type": "code",
   "execution_count": 69,
   "metadata": {},
   "outputs": [],
   "source": [
    "from dicttoxml import dicttoxml\n",
    "\n",
    "params_xml = dicttoxml(params)\n",
    "params_xml_file = open(GUID + '.xml','w')\n",
    "params_xml_file.write(params_xml.decode())\n",
    "params_xml_file.close()"
   ]
  },
  {
   "cell_type": "code",
   "execution_count": 72,
   "metadata": {},
   "outputs": [
    {
     "name": "stdout",
     "output_type": "stream",
     "text": [
      "<?xml version=\"1.0\" ?>\n",
      "<root>\n",
      "\t<coords type=\"list\">\n",
      "\t\t<item type=\"float\">29.9911</item>\n",
      "\t\t<item type=\"float\">-90.2592</item>\n",
      "\t</coords>\n",
      "\t<date_range type=\"list\">\n",
      "\t\t<item type=\"str\">2019-04-13</item>\n",
      "\t\t<item type=\"str\">2019-04-20</item>\n",
      "\t</date_range>\n",
      "\t<guid type=\"str\">9b5e0734-3478-11ea-b7dc-acde48001122</guid>\n",
      "</root>\n",
      "\n"
     ]
    }
   ],
   "source": [
    "from xml.dom.minidom import parseString\n",
    "\n",
    "dom = parseString(params_xml)\n",
    "print(dom.toprettyxml())"
   ]
  },
  {
   "cell_type": "code",
   "execution_count": null,
   "metadata": {},
   "outputs": [],
   "source": []
  }
 ],
 "metadata": {
  "kernelspec": {
   "display_name": "Python 3",
   "language": "python",
   "name": "python3"
  },
  "language_info": {
   "codemirror_mode": {
    "name": "ipython",
    "version": 3
   },
   "file_extension": ".py",
   "mimetype": "text/x-python",
   "name": "python",
   "nbconvert_exporter": "python",
   "pygments_lexer": "ipython3",
   "version": "3.7.6"
  }
 },
 "nbformat": 4,
 "nbformat_minor": 2
}
