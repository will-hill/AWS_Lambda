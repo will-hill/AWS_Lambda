{
 "cells": [
  {
   "cell_type": "markdown",
   "metadata": {},
   "source": [
    "# XML Conversion -- if required"
   ]
  },
  {
   "cell_type": "code",
   "execution_count": 2,
   "metadata": {},
   "outputs": [
    {
     "data": {
      "text/plain": [
       "{'airport': 'LAX',\n",
       " 'date_range': ('2019-04-13', '2019-04-20'),\n",
       " 'guid': 'b1ac8d5c-3582-11ea-9881-acde48001122'}"
      ]
     },
     "execution_count": 2,
     "metadata": {},
     "output_type": "execute_result"
    }
   ],
   "source": [
    "import uuid \n",
    "\n",
    "airport = 'LAX'\n",
    "date_range = ('2019-04-13', '2019-04-20')\n",
    "GUID = str(uuid.uuid1())\n",
    "\n",
    "params = {\n",
    "    'airport' : airport,\n",
    "    'date_range' : date_range,\n",
    "    'guid' : GUID\n",
    "}\n",
    "params"
   ]
  },
  {
   "cell_type": "code",
   "execution_count": 3,
   "metadata": {},
   "outputs": [
    {
     "name": "stdout",
     "output_type": "stream",
     "text": [
      "<?xml version=\"1.0\" ?>\n",
      "<root>\n",
      "\t<airport type=\"str\">LAX</airport>\n",
      "\t<date_range type=\"list\">\n",
      "\t\t<item type=\"str\">2019-04-13</item>\n",
      "\t\t<item type=\"str\">2019-04-20</item>\n",
      "\t</date_range>\n",
      "\t<guid type=\"str\">b1ac8d5c-3582-11ea-9881-acde48001122</guid>\n",
      "</root>\n",
      "\n"
     ]
    }
   ],
   "source": [
    "from dicttoxml import dicttoxml\n",
    "\n",
    "params_xml = dicttoxml(params)\n",
    "params_xml_file = open(GUID + '.xml','w')\n",
    "params_xml_file.write(params_xml.decode())\n",
    "params_xml_file.close()\n",
    "\n",
    "from xml.dom.minidom import parseString\n",
    "\n",
    "dom = parseString(params_xml)\n",
    "print(dom.toprettyxml())"
   ]
  },
  {
   "cell_type": "code",
   "execution_count": null,
   "metadata": {},
   "outputs": [],
   "source": []
  }
 ],
 "metadata": {
  "kernelspec": {
   "display_name": "Python 3",
   "language": "python",
   "name": "python3"
  },
  "language_info": {
   "codemirror_mode": {
    "name": "ipython",
    "version": 3
   },
   "file_extension": ".py",
   "mimetype": "text/x-python",
   "name": "python",
   "nbconvert_exporter": "python",
   "pygments_lexer": "ipython3",
   "version": "3.7.6"
  }
 },
 "nbformat": 4,
 "nbformat_minor": 4
}
