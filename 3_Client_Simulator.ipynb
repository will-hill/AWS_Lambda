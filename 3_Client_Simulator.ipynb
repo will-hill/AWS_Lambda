{
 "cells": [
  {
   "cell_type": "markdown",
   "metadata": {},
   "source": [
    "# Client Simulator\n",
    "##### This notebook simulate a client performing a search"
   ]
  },
  {
   "cell_type": "markdown",
   "metadata": {},
   "source": [
    "* 1. Parameters: airport & date range\n",
    "* 2. Generate a GUID\n",
    "* 3. Encapsulate in JSON\n",
    "* 0. XML Conversion\n",
    "* 4. Search Index\n",
    "* 5. ETL Index Results to PostgreSQL\n",
    "* 6. Export to CSV"
   ]
  },
  {
   "cell_type": "markdown",
   "metadata": {},
   "source": [
    "# 1. Parameters: Airport & Date Range"
   ]
  },
  {
   "cell_type": "code",
   "execution_count": 17,
   "metadata": {},
   "outputs": [],
   "source": [
    "# date range - April 13-20, 2019\n",
    "date_start = datetime.date(2019, 4, 13)\n",
    "date_end = datetime.date(2019, 4, 20)\n",
    "# airport = MSY\n",
    "airport = 'MSY'"
   ]
  },
  {
   "cell_type": "code",
   "execution_count": 18,
   "metadata": {},
   "outputs": [
    {
     "data": {
      "text/plain": [
       "('2019-04-13', '2019-04-20')"
      ]
     },
     "execution_count": 18,
     "metadata": {},
     "output_type": "execute_result"
    }
   ],
   "source": [
    "date_range = (str(date_start), str(date_end))\n",
    "date_range"
   ]
  },
  {
   "cell_type": "code",
   "execution_count": 19,
   "metadata": {},
   "outputs": [],
   "source": [
    "MSY_coord = (29.9911, -90.2592)\n",
    "LAX_coord = (33.9416,-118.4085)\n",
    "DCA_coord = (38.8512, -77.0402)\n",
    "IAW_coord = (38.9531, -77.4565)\n",
    "# JFK_coord\n",
    "# LGA_coord\n",
    "# SFO_coord\n",
    "# RDU_coord\n",
    "# DCA_coord\n",
    "# IAW_coord"
   ]
  },
  {
   "cell_type": "code",
   "execution_count": 20,
   "metadata": {},
   "outputs": [
    {
     "data": {
      "text/plain": [
       "(29.9911, -90.2592)"
      ]
     },
     "execution_count": 20,
     "metadata": {},
     "output_type": "execute_result"
    }
   ],
   "source": [
    "# MSY -- Louis Armstrong New Orleans International Airport\n",
    "lat = 29.9911\n",
    "long = -90.2592\n",
    "coords = (lat, long)\n",
    "coords"
   ]
  },
  {
   "cell_type": "markdown",
   "metadata": {},
   "source": [
    "# 2. Generate GUI"
   ]
  },
  {
   "cell_type": "code",
   "execution_count": 21,
   "metadata": {},
   "outputs": [
    {
     "data": {
      "text/plain": [
       "'369efdfc-34bf-11ea-8d23-acde48001122'"
      ]
     },
     "execution_count": 21,
     "metadata": {},
     "output_type": "execute_result"
    }
   ],
   "source": [
    "import uuid \n",
    "GUID = str(uuid.uuid1())\n",
    "GUID"
   ]
  },
  {
   "cell_type": "markdown",
   "metadata": {},
   "source": [
    "# 3. JSON wrap"
   ]
  },
  {
   "cell_type": "code",
   "execution_count": 22,
   "metadata": {},
   "outputs": [
    {
     "data": {
      "text/plain": [
       "{'airport': 'MSY',\n",
       " 'date_range': ('2019-04-13', '2019-04-20'),\n",
       " 'guid': '369efdfc-34bf-11ea-8d23-acde48001122'}"
      ]
     },
     "execution_count": 22,
     "metadata": {},
     "output_type": "execute_result"
    }
   ],
   "source": [
    "params = {\n",
    "    'airport' : airport,\n",
    "    'date_range' : date_range,\n",
    "    'guid' : GUID\n",
    "}\n",
    "params"
   ]
  },
  {
   "cell_type": "markdown",
   "metadata": {},
   "source": [
    "# 0. XML Conversion"
   ]
  },
  {
   "cell_type": "code",
   "execution_count": 15,
   "metadata": {},
   "outputs": [],
   "source": [
    "from dicttoxml import dicttoxml\n",
    "\n",
    "params_xml = dicttoxml(params)\n",
    "params_xml_file = open(GUID + '.xml','w')\n",
    "params_xml_file.write(params_xml.decode())\n",
    "params_xml_file.close()\n",
    "\n",
    "from xml.dom.minidom import parseString\n",
    "\n",
    "dom = parseString(params_xml)\n",
    "print(dom.toprettyxml())"
   ]
  },
  {
   "cell_type": "markdown",
   "metadata": {},
   "source": [
    "# 4. Search Index"
   ]
  },
  {
   "cell_type": "markdown",
   "metadata": {},
   "source": [
    "verify index is searchable"
   ]
  },
  {
   "cell_type": "code",
   "execution_count": 46,
   "metadata": {},
   "outputs": [],
   "source": [
    "results = !wget http://localhost:9200/itens/_search\\?pretty\\=true\\&q\\=airport:MSY -q -O -"
   ]
  },
  {
   "cell_type": "code",
   "execution_count": null,
   "metadata": {},
   "outputs": [],
   "source": [
    "[ for ]"
   ]
  },
  {
   "cell_type": "code",
   "execution_count": 58,
   "metadata": {},
   "outputs": [],
   "source": [
    "results_str = ''\n",
    "for i in results:\n",
    "    results_str += i"
   ]
  },
  {
   "cell_type": "code",
   "execution_count": 61,
   "metadata": {},
   "outputs": [],
   "source": [
    "import json    # or `import simplejson as json` if on Python < 2.6\n",
    "obj = json.loads(results_str)    # obj now contains a dict of the data\n",
    "\n",
    "for hit in obj['hits']['hits']:\n",
    "    print(hit['_source'])"
   ]
  },
  {
   "cell_type": "markdown",
   "metadata": {},
   "source": [
    "Search with Python"
   ]
  },
  {
   "cell_type": "code",
   "execution_count": 42,
   "metadata": {},
   "outputs": [],
   "source": [
    "def search_elastic(uri, airport):\n",
    "    import json\n",
    "    import requests\n",
    "    \"\"\"Simple Elasticsearch Query\"\"\"\n",
    "    # http://localhost:9200/itens/_search\\?pretty\\=true\\&q\\=airport:MSY -q -O -\n",
    "    query = json.dumps({\n",
    "        \"query\": {\n",
    "            \"match\": {\n",
    "                \"airport\": 'MSY'\n",
    "            }\n",
    "        }\n",
    "    })\n",
    "    response = requests.get(uri, data=query)\n",
    "    results = json.loads(response.text)\n",
    "    return results"
   ]
  },
  {
   "cell_type": "code",
   "execution_count": 44,
   "metadata": {},
   "outputs": [
    {
     "data": {
      "text/plain": [
       "{'error': 'Content-Type header [] is not supported', 'status': 406}"
      ]
     },
     "execution_count": 44,
     "metadata": {},
     "output_type": "execute_result"
    }
   ],
   "source": [
    "search_elastic('http://localhost:9200/itens/_search', 'MSY')"
   ]
  },
  {
   "cell_type": "code",
   "execution_count": null,
   "metadata": {},
   "outputs": [],
   "source": []
  }
 ],
 "metadata": {
  "kernelspec": {
   "display_name": "Python 3",
   "language": "python",
   "name": "python3"
  },
  "language_info": {
   "codemirror_mode": {
    "name": "ipython",
    "version": 3
   },
   "file_extension": ".py",
   "mimetype": "text/x-python",
   "name": "python",
   "nbconvert_exporter": "python",
   "pygments_lexer": "ipython3",
   "version": "3.7.6"
  }
 },
 "nbformat": 4,
 "nbformat_minor": 2
}
