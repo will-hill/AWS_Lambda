{
 "cells": [
  {
   "cell_type": "markdown",
   "metadata": {},
   "source": [
    " # PostgreSQL Microservice (Docker)"
   ]
  },
  {
   "cell_type": "markdown",
   "metadata": {},
   "source": [
    "### what it running?"
   ]
  },
  {
   "cell_type": "code",
   "execution_count": 4,
   "metadata": {},
   "outputs": [
    {
     "name": "stdout",
     "output_type": "stream",
     "text": [
      "CONTAINER ID        IMAGE                 COMMAND                  CREATED             STATUS              PORTS                                            NAMES\r\n",
      "54046294bea8        postgres              \"docker-entrypoint.s…\"   21 seconds ago      Up 20 seconds       0.0.0.0:5432->5432/tcp                           postgres\r\n",
      "0c598d4ce7ac        kibana:6.6.2          \"/usr/local/bin/kiba…\"   18 hours ago        Up 18 hours         0.0.0.0:5601->5601/tcp                           kibana\r\n",
      "5e64c764824b        elasticsearch:6.6.2   \"/usr/local/bin/dock…\"   18 hours ago        Up 18 hours         0.0.0.0:9200->9200/tcp, 0.0.0.0:9300->9300/tcp   elasticsearch\r\n"
     ]
    }
   ],
   "source": [
    "!docker ps"
   ]
  },
  {
   "cell_type": "markdown",
   "metadata": {},
   "source": [
    "### kill existing postgres"
   ]
  },
  {
   "cell_type": "code",
   "execution_count": 9,
   "metadata": {},
   "outputs": [
    {
     "name": "stdout",
     "output_type": "stream",
     "text": [
      "postgres\n",
      "postgres\n"
     ]
    }
   ],
   "source": [
    "!docker stop postgres \n",
    "!docker rm postgres\n",
    "!rm -rf init && mkdir init"
   ]
  },
  {
   "cell_type": "markdown",
   "metadata": {},
   "source": [
    "### Start new PostgreSQL"
   ]
  },
  {
   "cell_type": "code",
   "execution_count": 10,
   "metadata": {},
   "outputs": [
    {
     "name": "stdout",
     "output_type": "stream",
     "text": [
      "d3f935565ec3d2ba71c04ce1c805d85524263cd8f22c32c0e1136e99e7429d27\r\n"
     ]
    }
   ],
   "source": [
    "!docker run -d \\\n",
    "    -p 5432:5432 \\\n",
    "    --name postgres \\\n",
    "    -e POSTGRES_USER=admin \\\n",
    "    -e POSTGRES_DB=trvl \\\n",
    "    -v $PWD/init:/docker-entrypoint-initdb.d \\\n",
    "    postgres\n",
    "!sleep 5"
   ]
  },
  {
   "cell_type": "markdown",
   "metadata": {},
   "source": [
    "### verify running"
   ]
  },
  {
   "cell_type": "code",
   "execution_count": 11,
   "metadata": {},
   "outputs": [
    {
     "name": "stdout",
     "output_type": "stream",
     "text": [
      "CONTAINER ID        IMAGE                 COMMAND                  CREATED             STATUS              PORTS                                            NAMES\n",
      "d3f935565ec3        postgres              \"docker-entrypoint.s…\"   33 seconds ago      Up 32 seconds       0.0.0.0:5432->5432/tcp                           postgres\n",
      "0c598d4ce7ac        kibana:6.6.2          \"/usr/local/bin/kiba…\"   18 hours ago        Up 18 hours         0.0.0.0:5601->5601/tcp                           kibana\n",
      "5e64c764824b        elasticsearch:6.6.2   \"/usr/local/bin/dock…\"   18 hours ago        Up 18 hours         0.0.0.0:9200->9200/tcp, 0.0.0.0:9300->9300/tcp   elasticsearch\n",
      "\n",
      "\n",
      "any data?\n",
      "\n",
      "\n",
      "\u001b[34m.\u001b[m\u001b[m  \u001b[34m..\u001b[m\u001b[m\n"
     ]
    }
   ],
   "source": [
    "!docker ps\n",
    "!echo \"\\n\\nany data?\\n\\n\"\n",
    "!ls -a init"
   ]
  },
  {
   "cell_type": "markdown",
   "metadata": {},
   "source": [
    "### reachable?"
   ]
  },
  {
   "cell_type": "code",
   "execution_count": 15,
   "metadata": {},
   "outputs": [
    {
     "data": {
      "text/plain": [
       "[]"
      ]
     },
     "execution_count": 15,
     "metadata": {},
     "output_type": "execute_result"
    }
   ],
   "source": [
    "# !export PGPASSWORD={PASSWD} ; psql -p {PORT} -d {DB} -h {HOST} -U {USER} -l\n",
    "# https://www.pythonsheets.com/notes/python-sqlalchemy.html\n",
    "from sqlalchemy import create_engine\n",
    "engine = create_engine('postgresql+psycopg2://admin@localhost:5432/trvl')\n",
    "engine.table_names()"
   ]
  },
  {
   "cell_type": "code",
   "execution_count": null,
   "metadata": {},
   "outputs": [],
   "source": []
  }
 ],
 "metadata": {
  "kernelspec": {
   "display_name": "Python 3",
   "language": "python",
   "name": "python3"
  },
  "language_info": {
   "codemirror_mode": {
    "name": "ipython",
    "version": 3
   },
   "file_extension": ".py",
   "mimetype": "text/x-python",
   "name": "python",
   "nbconvert_exporter": "python",
   "pygments_lexer": "ipython3",
   "version": "3.7.6"
  }
 },
 "nbformat": 4,
 "nbformat_minor": 4
}
